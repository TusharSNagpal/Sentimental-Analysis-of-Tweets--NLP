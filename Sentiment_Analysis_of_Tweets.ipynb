{
  "nbformat": 4,
  "nbformat_minor": 0,
  "metadata": {
    "colab": {
      "provenance": []
    },
    "kernelspec": {
      "name": "python3",
      "display_name": "Python 3"
    },
    "language_info": {
      "name": "python"
    }
  },
  "cells": [
    {
      "cell_type": "code",
      "execution_count": 1,
      "metadata": {
        "id": "jk52dWqXrQkd"
      },
      "outputs": [],
      "source": [
        "## Imports:\n",
        "import nltk                                # Python library for NLP\n",
        "from nltk.corpus import twitter_samples    # sample Twitter dataset from NLTK\n",
        "import matplotlib.pyplot as plt            # library for visualization\n",
        "import random                              # pseudo-random number generator"
      ]
    },
    {
      "cell_type": "code",
      "source": [
        "# downloads sample twitter dataset.\n",
        "nltk.download('twitter_samples')"
      ],
      "metadata": {
        "colab": {
          "base_uri": "https://localhost:8080/"
        },
        "id": "YLWxlGogseF6",
        "outputId": "5740eaa6-e7ff-4ad0-f85d-554add21a32b"
      },
      "execution_count": 2,
      "outputs": [
        {
          "output_type": "stream",
          "name": "stderr",
          "text": [
            "[nltk_data] Downloading package twitter_samples to /root/nltk_data...\n",
            "[nltk_data]   Package twitter_samples is already up-to-date!\n"
          ]
        },
        {
          "output_type": "execute_result",
          "data": {
            "text/plain": [
              "True"
            ]
          },
          "metadata": {},
          "execution_count": 2
        }
      ]
    },
    {
      "cell_type": "code",
      "source": [
        "twitter_samples"
      ],
      "metadata": {
        "colab": {
          "base_uri": "https://localhost:8080/"
        },
        "id": "tdatq1kzsGyr",
        "outputId": "60ac0022-d626-40b9-dcb2-264a318a5284"
      },
      "execution_count": 3,
      "outputs": [
        {
          "output_type": "execute_result",
          "data": {
            "text/plain": [
              "<TwitterCorpusReader in '/root/nltk_data/corpora/twitter_samples'>"
            ]
          },
          "metadata": {},
          "execution_count": 3
        }
      ]
    },
    {
      "cell_type": "code",
      "source": [
        "allPositiveTweets = twitter_samples.strings('positive_tweets.json')\n",
        "allNegativeTweets = twitter_samples.strings('negative_tweets.json')"
      ],
      "metadata": {
        "id": "nTv8iWMPrfNY"
      },
      "execution_count": 4,
      "outputs": []
    },
    {
      "cell_type": "code",
      "source": [
        "##REPORT:\n",
        "print('Number of Positive Tweets: ', len(allPositiveTweets))\n",
        "print('Number of Negative Tweets: ', len(allNegativeTweets))\n",
        "print('Type of Positive Tweets: ', type(allPositiveTweets))\n",
        "print('Type of Negative Tweets: ', type(allNegativeTweets))"
      ],
      "metadata": {
        "colab": {
          "base_uri": "https://localhost:8080/"
        },
        "id": "lmktb4I5spja",
        "outputId": "cd96fb19-8418-4c26-e6c1-53863debae6e"
      },
      "execution_count": 5,
      "outputs": [
        {
          "output_type": "stream",
          "name": "stdout",
          "text": [
            "Number of Positive Tweets:  5000\n",
            "Number of Negative Tweets:  5000\n",
            "Type of Positive Tweets:  <class 'list'>\n",
            "Type of Negative Tweets:  <class 'list'>\n"
          ]
        }
      ]
    },
    {
      "cell_type": "code",
      "source": [
        "##To assign colors to sentences in print statement just add color code in beginning..\n",
        "print('\\033[92m' + allPositiveTweets[random.randint(0,5000)])\n",
        "print('\\033[91m' + allNegativeTweets[random.randint(0,5000)])"
      ],
      "metadata": {
        "colab": {
          "base_uri": "https://localhost:8080/"
        },
        "id": "kwWr7Yu6tY1L",
        "outputId": "854570d0-a8c6-4606-cb6f-60e4777ed081"
      },
      "execution_count": 6,
      "outputs": [
        {
          "output_type": "stream",
          "name": "stdout",
          "text": [
            "\u001b[92m@taylorswift13 @Caradelevingne @halstonsage @natandalex I CANT WAIT :)\n",
            "\u001b[91mMovie marathon anyonneeee :(((( loner af\n"
          ]
        }
      ]
    },
    {
      "cell_type": "markdown",
      "source": [
        "Presence of @ : account handlers and :-( emojies detected.."
      ],
      "metadata": {
        "id": "rxuH80BDCOED"
      }
    },
    {
      "cell_type": "markdown",
      "source": [
        "## Pre-Processing:"
      ],
      "metadata": {
        "id": "YeZDGn_4Ciz8"
      }
    },
    {
      "cell_type": "code",
      "source": [
        "##Sampling:\n",
        "\n",
        "tweet = allPositiveTweets[2277]\n",
        "tweet"
      ],
      "metadata": {
        "colab": {
          "base_uri": "https://localhost:8080/",
          "height": 35
        },
        "id": "IIS3V6RvClQ1",
        "outputId": "16b0ff7e-57f6-4c8d-bb01-7cc5baae705b"
      },
      "execution_count": 7,
      "outputs": [
        {
          "output_type": "execute_result",
          "data": {
            "text/plain": [
              "'My beautiful sunflowers on a sunny Friday morning off :) #sunflowers #favourites #happy #Friday off… https://t.co/3tfYom0N1i'"
            ],
            "application/vnd.google.colaboratory.intrinsic+json": {
              "type": "string"
            }
          },
          "metadata": {},
          "execution_count": 7
        }
      ]
    },
    {
      "cell_type": "code",
      "source": [
        "##importing stopwords:\n",
        "nltk.download('stopwords')"
      ],
      "metadata": {
        "colab": {
          "base_uri": "https://localhost:8080/"
        },
        "id": "ggu-0utvC6nW",
        "outputId": "7bae6221-c11c-450f-c0c5-0f659198d53a"
      },
      "execution_count": 8,
      "outputs": [
        {
          "output_type": "stream",
          "name": "stderr",
          "text": [
            "[nltk_data] Downloading package stopwords to /root/nltk_data...\n",
            "[nltk_data]   Package stopwords is already up-to-date!\n"
          ]
        },
        {
          "output_type": "execute_result",
          "data": {
            "text/plain": [
              "True"
            ]
          },
          "metadata": {},
          "execution_count": 8
        }
      ]
    },
    {
      "cell_type": "code",
      "source": [
        "import re                                  # library for regular expression operations\n",
        "import string                              # for string operations\n",
        "\n",
        "from nltk.corpus import stopwords          # module for stop words that come with NLTK\n",
        "from nltk.stem import PorterStemmer        # module for stemming\n",
        "from nltk.tokenize import TweetTokenizer   # module for tokenizing strings"
      ],
      "metadata": {
        "id": "1k9JfEytDFy3"
      },
      "execution_count": 9,
      "outputs": []
    },
    {
      "cell_type": "markdown",
      "source": [
        "### To remove hyperlinks and account prefixes"
      ],
      "metadata": {
        "id": "jA-8OpTbDSrg"
      }
    },
    {
      "cell_type": "code",
      "source": [
        "print(tweet)\n",
        "\n",
        "##removing: \"RT\"\n",
        "\n",
        "tweetWithoutExtra = re.sub(r'^RT[\\s]+', '', tweet) ## meaning: starts with RT with one or more spaces at the end..\n",
        "\n",
        "##removing: URL:\n",
        "\n",
        "tweetWithoutExtra = re.sub(r'https?://[\\S]+', '', tweetWithoutExtra) ## meaning: https or http://anystring literal without whitespaces..\n",
        "\n",
        "##removing: #:\n",
        "\n",
        "tweetWithoutExtra = re.sub(r'#', '', tweetWithoutExtra)\n",
        "\n",
        "print(tweetWithoutExtra)"
      ],
      "metadata": {
        "colab": {
          "base_uri": "https://localhost:8080/"
        },
        "id": "zKqG3gmCDYCD",
        "outputId": "a2241f72-92fa-4654-c789-78cb95324d57"
      },
      "execution_count": 10,
      "outputs": [
        {
          "output_type": "stream",
          "name": "stdout",
          "text": [
            "My beautiful sunflowers on a sunny Friday morning off :) #sunflowers #favourites #happy #Friday off… https://t.co/3tfYom0N1i\n",
            "My beautiful sunflowers on a sunny Friday morning off :) sunflowers favourites happy Friday off… \n"
          ]
        }
      ]
    },
    {
      "cell_type": "code",
      "source": [
        "## Tokenizer class:\n",
        "tokenizer = TweetTokenizer(preserve_case = False, strip_handles = True, reduce_len = True)\n",
        "##preserve_case. By default, it is set to True. If it is set to False, then the tokenizer will downcase everything except for emoticons.\n",
        "##reduce_len. By default, it is set to False. It specifies whether to replace repeated character sequences of length 3 or greater with sequences of length 3."
      ],
      "metadata": {
        "id": "HqnsvVb1Lrq1"
      },
      "execution_count": 11,
      "outputs": []
    },
    {
      "cell_type": "code",
      "source": [
        "tweet_tokens = tokenizer.tokenize(tweetWithoutExtra)\n",
        "print(tweet_tokens)"
      ],
      "metadata": {
        "colab": {
          "base_uri": "https://localhost:8080/"
        },
        "id": "4C3TQPInhtEI",
        "outputId": "b66067f1-99bd-40b6-fac5-3a7966e2d2e1"
      },
      "execution_count": 12,
      "outputs": [
        {
          "output_type": "stream",
          "name": "stdout",
          "text": [
            "['my', 'beautiful', 'sunflowers', 'on', 'a', 'sunny', 'friday', 'morning', 'off', ':)', 'sunflowers', 'favourites', 'happy', 'friday', 'off', '…']\n"
          ]
        }
      ]
    },
    {
      "cell_type": "code",
      "source": [
        "## stopwords.words('english') contains all the stopwords in english.. and string.punctuation contains punctuations\n",
        "tweets_clean = []\n",
        "for word in tweet_tokens:\n",
        "  if word not in stopwords.words('english') and word not in string.punctuation:\n",
        "    tweets_clean.append(word)\n",
        "\n",
        "print(tweets_clean)"
      ],
      "metadata": {
        "colab": {
          "base_uri": "https://localhost:8080/"
        },
        "id": "Gg9vxOjlh6Ho",
        "outputId": "97d27aec-12c8-4d51-a043-4f74d92c9304"
      },
      "execution_count": 13,
      "outputs": [
        {
          "output_type": "stream",
          "name": "stdout",
          "text": [
            "['beautiful', 'sunflowers', 'sunny', 'friday', 'morning', ':)', 'sunflowers', 'favourites', 'happy', 'friday', '…']\n"
          ]
        }
      ]
    },
    {
      "cell_type": "code",
      "source": [
        "##STEMMING:\n",
        "\n",
        "##STEMMER CLASS:stemmer = PorterStemmer()==> method: stemmer.stem(word)\n",
        "\n",
        "stemmer = PorterStemmer()\n",
        "\n",
        "stemmed_tokens = []\n",
        "\n",
        "for word in tweets_clean:\n",
        "  stemmed_word = stemmer.stem(word)\n",
        "  stemmed_tokens.append(stemmed_word)\n",
        "\n",
        "print(stemmed_tokens)"
      ],
      "metadata": {
        "colab": {
          "base_uri": "https://localhost:8080/"
        },
        "id": "iUONsaMNldlB",
        "outputId": "91eac5db-3e22-47b7-e7d6-7c34dc49f442"
      },
      "execution_count": 14,
      "outputs": [
        {
          "output_type": "stream",
          "name": "stdout",
          "text": [
            "['beauti', 'sunflow', 'sunni', 'friday', 'morn', ':)', 'sunflow', 'favourit', 'happi', 'friday', '…']\n"
          ]
        }
      ]
    },
    {
      "cell_type": "code",
      "source": [
        "# pip install utils"
      ],
      "metadata": {
        "colab": {
          "base_uri": "https://localhost:8080/"
        },
        "id": "ahWbOiITo3GB",
        "outputId": "a0a3bba5-54c8-41a0-f990-7c4a5cd84ceb"
      },
      "execution_count": 16,
      "outputs": [
        {
          "output_type": "stream",
          "name": "stdout",
          "text": [
            "Looking in indexes: https://pypi.org/simple, https://us-python.pkg.dev/colab-wheels/public/simple/\n",
            "Collecting utils\n",
            "  Downloading utils-1.0.1-py2.py3-none-any.whl (21 kB)\n",
            "Installing collected packages: utils\n",
            "Successfully installed utils-1.0.1\n"
          ]
        }
      ]
    },
    {
      "cell_type": "markdown",
      "source": [
        "The things done above can be done with just a single function: process_tweet in library.."
      ],
      "metadata": {
        "id": "uAkrmVlsnyIe"
      }
    },
    {
      "cell_type": "code",
      "source": [
        "##preprocess with library:\n",
        "\n",
        "def process_tweet(tweet):\n",
        "  stemmer = PorterStemmer()\n",
        "  stopwords_english = stopwords.words('english')\n",
        "  tweet = re.sub(r'\\$\\w*', '', tweet)\n",
        "  tweet = re.sub(r'^RT[\\s]+', '', tweet)\n",
        "  tweet = re.sub(r'https?:\\/\\/.*[\\r\\n]*', '', tweet)\n",
        "  tweet = re.sub(r'#', '', tweet)\n",
        "  tokenizer = TweetTokenizer(preserve_case=False,        strip_handles=True,reduce_len=True)\n",
        "  tweet_tokens = tokenizer.tokenize(tweet)\n",
        "\n",
        "  tweets_clean = []\n",
        "  for word in tweet_tokens:\n",
        "      if (word not in stopwords_english and  \n",
        "              word not in string.punctuation): \n",
        "          stem_word = stemmer.stem(word)  # stemming word\n",
        "          tweets_clean.append(stem_word)\n",
        "\n",
        "  return tweets_clean\n",
        "\n",
        "# choose the same tweet\n",
        "tweet = allPositiveTweets[2277]\n",
        "\n",
        "print()\n",
        "print('\\033[92m')\n",
        "print(tweet)\n",
        "print('\\033[94m')\n",
        "\n",
        "# call the imported function\n",
        "tweets_stem = process_tweet(tweet); # Preprocess a given tweet\n",
        "\n",
        "print('preprocessed tweet:')\n",
        "print(tweets_stem) # Print the result"
      ],
      "metadata": {
        "colab": {
          "base_uri": "https://localhost:8080/"
        },
        "id": "uI7uNpnymZde",
        "outputId": "5270ce41-0902-4b2f-c8bb-283f1ca63c16"
      },
      "execution_count": 22,
      "outputs": [
        {
          "output_type": "stream",
          "name": "stdout",
          "text": [
            "\n",
            "\u001b[92m\n",
            "My beautiful sunflowers on a sunny Friday morning off :) #sunflowers #favourites #happy #Friday off… https://t.co/3tfYom0N1i\n",
            "\u001b[94m\n",
            "preprocessed tweet:\n",
            "['beauti', 'sunflow', 'sunni', 'friday', 'morn', ':)', 'sunflow', 'favourit', 'happi', 'friday', '…']\n"
          ]
        }
      ]
    }
  ]
}